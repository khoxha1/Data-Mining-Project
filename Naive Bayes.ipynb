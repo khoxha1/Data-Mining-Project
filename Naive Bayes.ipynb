{
 "cells": [
  {
   "cell_type": "raw",
   "id": "c03cf2bd",
   "metadata": {},
   "source": [
    "Naive Bayes"
   ]
  },
  {
   "cell_type": "code",
   "execution_count": 1,
   "id": "cef7ed1b",
   "metadata": {},
   "outputs": [],
   "source": [
    "import warnings\n",
    "warnings.filterwarnings(\"ignore\")\n",
    "\n",
    "import os\n",
    "import numpy as np\n",
    "import pandas as pd\n",
    "import matplotlib.pyplot as plt\n",
    "import seaborn as sns\n",
    "%matplotlib inline\n",
    "import plotly.express as px\n",
    "\n",
    "from sklearn.model_selection import train_test_split\n",
    "from sklearn.utils import shuffle\n",
    "\n",
    "import re\n",
    "import string\n",
    "import random\n",
    "import timeit\n",
    "import nltk\n",
    "from nltk.stem import WordNetLemmatizer\n",
    "from nltk.corpus import stopwords\n",
    "from nltk.stem.porter import PorterStemmer\n",
    "from nltk.tokenize import word_tokenize\n",
    "from collections import Counter\n",
    "\n",
    "from sklearn.feature_extraction.text import TfidfVectorizer\n",
    "from sklearn.pipeline import Pipeline\n",
    "from sklearn.feature_extraction.text import CountVectorizer,TfidfTransformer\n",
    "from sklearn.naive_bayes import MultinomialNB\n",
    "from sklearn.naive_bayes import BernoulliNB\n",
    "from sklearn.ensemble import GradientBoostingClassifier\n",
    "from sklearn.ensemble import AdaBoostClassifier\n",
    "from sklearn.svm import SVC\n",
    "from tqdm.auto import tqdm\n",
    "\n",
    "from IPython.display import HTML,display\n",
    "from nltk.tokenize.toktok import ToktokTokenizer\n",
    "from bs4 import BeautifulSoup\n",
    "import nltk\n",
    "\n",
    "import tqdm\n",
    "import torch\n",
    "from sklearn.model_selection import StratifiedKFold, cross_val_score, train_test_split\n",
    "from sklearn.metrics import accuracy_score, roc_curve, auc\n",
    "import torch.nn.functional as F\n",
    "from transformers import AdamW, get_linear_schedule_with_warmup\n",
    "from torch.utils.data import TensorDataset, DataLoader, RandomSampler, SequentialSampler\n"
   ]
  },
  {
   "cell_type": "code",
   "execution_count": 2,
   "id": "1ecef1ca",
   "metadata": {
    "scrolled": true
   },
   "outputs": [],
   "source": [
    "from string import punctuation\n",
    "from nltk.corpus import stopwords\n",
    "from nltk.tokenize import ToktokTokenizer\n",
    "from nltk.tokenize import word_tokenize\n",
    "from nltk.stem import WordNetLemmatizer\n",
    "from nltk.stem import PorterStemmer\n",
    "\n",
    "def clean_text(text):\n",
    "    stop = stopwords.words('english')       \n",
    "    punc = list(punctuation)\n",
    "    bad_tokens = stop + punc\n",
    "    lemma = WordNetLemmatizer()\n",
    "    tokens = word_tokenize(text)\n",
    "    word_tokens = [t for t in tokens if t.isalpha()]\n",
    "    clean_token = [lemma.lemmatize(t.lower()) for t in word_tokens if t not in bad_tokens]\n",
    "    return \" \".join(clean_token)\n",
    "\n",
    "def apply_cleaning(X_train):\n",
    "    \n",
    "    X_train = X_train.apply(lambda x: clean_text(x))\n",
    "    return(X_train)\n",
    "\n",
    "def tfidf_featured_data(X_train):\n",
    "\n",
    "    X_train = apply_cleaning(X_train)\n",
    "    # add tf-idfs columns\n",
    "    tfidf = TfidfVectorizer(min_df = 30)\n",
    "    tfidf_result = tfidf.fit_transform(X_train).toarray()\n",
    "    tfidf_df = pd.DataFrame(tfidf_result, columns = tfidf.get_feature_names_out())\n",
    "    tfidf_df.columns = [\"word_\" + str(x) for x in tfidf_df.columns]\n",
    "    tfidf_df.index = X_train.index\n",
    "    X_train = pd.concat([X_train, tfidf_df], axis=1)\n",
    "    X_train.drop(columns = ['sentences'], inplace = True)\n",
    "    \n",
    "    return X_train\n",
    "\n",
    "def dict2text(dicti):\n",
    "\n",
    "    text = ''\n",
    "    for key, value in dicti.items():\n",
    "        text += str(key) + '=' + str(value) + ' '\n",
    "    return text\n",
    "\n",
    "def format_params(params_str):\n",
    "\n",
    "    # Remove the opening and closing braces and quotes\n",
    "    params_str = params_str.replace(\"{\", \"\").replace(\"}\", \"\").replace(\"'\", \"\")\n",
    "\n",
    "    # Replace commas with spaces\n",
    "    params_str = params_str.replace(\", \", \" \")\n",
    "\n",
    "    # Replace colons with equals signs\n",
    "    params_str = params_str.replace(\":\", \"=\")\n",
    "\n",
    "    # Remove spaces around equals signs\n",
    "    params_str = params_str.replace(\"= \", \"=\").replace(\" =\", \"=\")\n",
    "\n",
    "    return params_str\n",
    "\n",
    "def evaluate_roc(probs, y_true):\n",
    "   \n",
    "    preds = probs[:, 1]\n",
    "    fpr, tpr, threshold = roc_curve(y_true, preds)\n",
    "    roc_auc = auc(fpr, tpr)\n",
    "    print(f'AUC: {roc_auc:.4f}')\n",
    "       \n",
    "    # Get accuracy over the test set\n",
    "    y_pred = np.where(preds >= 0.5, 1, 0)\n",
    "    accuracy = accuracy_score(y_true, y_pred)\n",
    "    print(f'Accuracy: {accuracy*100:.2f}%')\n",
    "    \n",
    "    # Plot ROC AUC\n",
    "    plt.title('Receiver Operating Characteristic')\n",
    "    plt.plot(fpr, tpr, 'b', label = 'AUC = %0.2f' % roc_auc)\n",
    "    plt.legend(loc = 'lower right')\n",
    "    plt.plot([0, 1], [0, 1],'r--')\n",
    "    plt.xlim([0, 1])\n",
    "    plt.ylim([0, 1])\n",
    "    plt.ylabel('True Positive Rate')\n",
    "    plt.xlabel('False Positive Rate')\n",
    "    plt.show()\n",
    "\n",
    "def roc_auc(test, y_pred):\n",
    "    # Assuming y_true contains the true labels (0 or 1) and y_pred contains the predicted probabilities for the positive class\n",
    "    fpr, tpr, thresholds = roc_curve(test.values, y_pred)\n",
    "    roc_auc = auc(fpr, tpr)\n",
    "\n",
    "    # Plotting the ROC curve\n",
    "    plt.plot(fpr, tpr, label='ROC curve (AUC = %0.2f)' % roc_auc)\n",
    "    plt.plot([0, 1], [0, 1], 'k--')  # Random guess line\n",
    "    plt.xlabel('False Positive Rate')\n",
    "    plt.ylabel('True Positive Rate')\n",
    "    plt.title('Receiver Operating Characteristic')\n",
    "    plt.legend(loc='lower right')\n",
    "    plt.show()"
   ]
  },
  {
   "cell_type": "code",
   "execution_count": 3,
   "id": "d4ecb604",
   "metadata": {},
   "outputs": [
    {
     "name": "stderr",
     "output_type": "stream",
     "text": [
      "[nltk_data] Downloading package punkt to\n",
      "[nltk_data]     C:\\Users\\khoxh\\AppData\\Roaming\\nltk_data...\n",
      "[nltk_data]   Package punkt is already up-to-date!\n"
     ]
    },
    {
     "data": {
      "text/plain": [
       "True"
      ]
     },
     "execution_count": 3,
     "metadata": {},
     "output_type": "execute_result"
    }
   ],
   "source": [
    "import nltk\n",
    "nltk.download('punkt')"
   ]
  },
  {
   "cell_type": "code",
   "execution_count": 4,
   "id": "ec7f63e0",
   "metadata": {},
   "outputs": [
    {
     "name": "stderr",
     "output_type": "stream",
     "text": [
      "[nltk_data] Downloading package omw-1.4 to\n",
      "[nltk_data]     C:\\Users\\khoxh\\AppData\\Roaming\\nltk_data...\n",
      "[nltk_data]   Package omw-1.4 is already up-to-date!\n"
     ]
    },
    {
     "data": {
      "text/plain": [
       "True"
      ]
     },
     "execution_count": 4,
     "metadata": {},
     "output_type": "execute_result"
    }
   ],
   "source": [
    "import nltk\n",
    "nltk.download('omw-1.4')"
   ]
  },
  {
   "cell_type": "code",
   "execution_count": 5,
   "id": "28b22596",
   "metadata": {},
   "outputs": [],
   "source": [
    "train = pd.read_csv(\"train.csv\")\n",
    "train[\"text\"] = apply_cleaning(train[\"text\"])\n",
    "test = pd.read_csv((\"test.csv\"))\n",
    "test[\"text\"] = apply_cleaning(test[\"text\"])"
   ]
  },
  {
   "cell_type": "code",
   "execution_count": 6,
   "id": "5b87f237",
   "metadata": {},
   "outputs": [
    {
     "name": "stdout",
     "output_type": "stream",
     "text": [
      "Fitting 3 folds for each of 12 candidates, totalling 36 fits\n",
      "[CV 1/3] END classifier__alpha=0.1, tfidf__use_idf=True, vectorizer__ngram_range=(1, 1);, score=0.685 total time=   0.1s\n",
      "[CV 2/3] END classifier__alpha=0.1, tfidf__use_idf=True, vectorizer__ngram_range=(1, 1);, score=0.697 total time=   0.1s\n",
      "[CV 3/3] END classifier__alpha=0.1, tfidf__use_idf=True, vectorizer__ngram_range=(1, 1);, score=0.674 total time=   0.2s\n",
      "[CV 1/3] END classifier__alpha=0.1, tfidf__use_idf=True, vectorizer__ngram_range=(1, 2);, score=0.668 total time=   0.6s\n",
      "[CV 2/3] END classifier__alpha=0.1, tfidf__use_idf=True, vectorizer__ngram_range=(1, 2);, score=0.665 total time=   0.6s\n",
      "[CV 3/3] END classifier__alpha=0.1, tfidf__use_idf=True, vectorizer__ngram_range=(1, 2);, score=0.673 total time=   0.5s\n",
      "[CV 1/3] END classifier__alpha=0.1, tfidf__use_idf=False, vectorizer__ngram_range=(1, 1);, score=0.673 total time=   0.2s\n",
      "[CV 2/3] END classifier__alpha=0.1, tfidf__use_idf=False, vectorizer__ngram_range=(1, 1);, score=0.687 total time=   0.1s\n",
      "[CV 3/3] END classifier__alpha=0.1, tfidf__use_idf=False, vectorizer__ngram_range=(1, 1);, score=0.674 total time=   0.1s\n",
      "[CV 1/3] END classifier__alpha=0.1, tfidf__use_idf=False, vectorizer__ngram_range=(1, 2);, score=0.658 total time=   0.6s\n",
      "[CV 2/3] END classifier__alpha=0.1, tfidf__use_idf=False, vectorizer__ngram_range=(1, 2);, score=0.657 total time=   0.5s\n",
      "[CV 3/3] END classifier__alpha=0.1, tfidf__use_idf=False, vectorizer__ngram_range=(1, 2);, score=0.662 total time=   0.6s\n",
      "[CV 1/3] END classifier__alpha=1.0, tfidf__use_idf=True, vectorizer__ngram_range=(1, 1);, score=0.655 total time=   0.2s\n",
      "[CV 2/3] END classifier__alpha=1.0, tfidf__use_idf=True, vectorizer__ngram_range=(1, 1);, score=0.655 total time=   0.2s\n",
      "[CV 3/3] END classifier__alpha=1.0, tfidf__use_idf=True, vectorizer__ngram_range=(1, 1);, score=0.655 total time=   0.2s\n",
      "[CV 1/3] END classifier__alpha=1.0, tfidf__use_idf=True, vectorizer__ngram_range=(1, 2);, score=0.655 total time=   0.6s\n",
      "[CV 2/3] END classifier__alpha=1.0, tfidf__use_idf=True, vectorizer__ngram_range=(1, 2);, score=0.655 total time=   0.6s\n",
      "[CV 3/3] END classifier__alpha=1.0, tfidf__use_idf=True, vectorizer__ngram_range=(1, 2);, score=0.655 total time=   0.6s\n",
      "[CV 1/3] END classifier__alpha=1.0, tfidf__use_idf=False, vectorizer__ngram_range=(1, 1);, score=0.655 total time=   0.2s\n",
      "[CV 2/3] END classifier__alpha=1.0, tfidf__use_idf=False, vectorizer__ngram_range=(1, 1);, score=0.655 total time=   0.1s\n",
      "[CV 3/3] END classifier__alpha=1.0, tfidf__use_idf=False, vectorizer__ngram_range=(1, 1);, score=0.655 total time=   0.1s\n",
      "[CV 1/3] END classifier__alpha=1.0, tfidf__use_idf=False, vectorizer__ngram_range=(1, 2);, score=0.655 total time=   0.6s\n",
      "[CV 2/3] END classifier__alpha=1.0, tfidf__use_idf=False, vectorizer__ngram_range=(1, 2);, score=0.655 total time=   0.6s\n",
      "[CV 3/3] END classifier__alpha=1.0, tfidf__use_idf=False, vectorizer__ngram_range=(1, 2);, score=0.655 total time=   0.5s\n",
      "[CV 1/3] END classifier__alpha=10.0, tfidf__use_idf=True, vectorizer__ngram_range=(1, 1);, score=0.655 total time=   0.2s\n",
      "[CV 2/3] END classifier__alpha=10.0, tfidf__use_idf=True, vectorizer__ngram_range=(1, 1);, score=0.655 total time=   0.2s\n",
      "[CV 3/3] END classifier__alpha=10.0, tfidf__use_idf=True, vectorizer__ngram_range=(1, 1);, score=0.655 total time=   0.1s\n",
      "[CV 1/3] END classifier__alpha=10.0, tfidf__use_idf=True, vectorizer__ngram_range=(1, 2);, score=0.655 total time=   0.5s\n",
      "[CV 2/3] END classifier__alpha=10.0, tfidf__use_idf=True, vectorizer__ngram_range=(1, 2);, score=0.655 total time=   0.6s\n",
      "[CV 3/3] END classifier__alpha=10.0, tfidf__use_idf=True, vectorizer__ngram_range=(1, 2);, score=0.655 total time=   0.5s\n",
      "[CV 1/3] END classifier__alpha=10.0, tfidf__use_idf=False, vectorizer__ngram_range=(1, 1);, score=0.655 total time=   0.2s\n",
      "[CV 2/3] END classifier__alpha=10.0, tfidf__use_idf=False, vectorizer__ngram_range=(1, 1);, score=0.655 total time=   0.2s\n",
      "[CV 3/3] END classifier__alpha=10.0, tfidf__use_idf=False, vectorizer__ngram_range=(1, 1);, score=0.655 total time=   0.2s\n",
      "[CV 1/3] END classifier__alpha=10.0, tfidf__use_idf=False, vectorizer__ngram_range=(1, 2);, score=0.655 total time=   0.5s\n",
      "[CV 2/3] END classifier__alpha=10.0, tfidf__use_idf=False, vectorizer__ngram_range=(1, 2);, score=0.655 total time=   0.6s\n",
      "[CV 3/3] END classifier__alpha=10.0, tfidf__use_idf=False, vectorizer__ngram_range=(1, 2);, score=0.655 total time=   0.5s\n",
      "Accuracy score:  0.683291770573566\n",
      "Best hyperparameters:  {'classifier__alpha': 0.1, 'tfidf__use_idf': True, 'vectorizer__ngram_range': (1, 1)}\n",
      "Best accuracy score:  0.6851083900735054\n"
     ]
    }
   ],
   "source": [
    "from sklearn.model_selection import GridSearchCV\n",
    "X_train = train[\"text\"]\n",
    "y_train = train[\"sentiment\"]\n",
    "X_test = test[\"text\"]\n",
    "y_test = test[\"sentiment\"]\n",
    "\n",
    "# Create the Naive Bayes pipeline\n",
    "pipeline = Pipeline([\n",
    "    ('vectorizer', CountVectorizer()),\n",
    "    ('tfidf', TfidfTransformer()),\n",
    "    ('classifier', MultinomialNB())\n",
    "])\n",
    "\n",
    "\n",
    "param_grid = {\n",
    "    'vectorizer__ngram_range': [(1, 1), (1, 2)],  \n",
    "    'tfidf__use_idf': [True, False], \n",
    "    'classifier__alpha': [0.1, 1.0, 10.0] \n",
    "}\n",
    "\n",
    "    \n",
    "# Create a GridSearchCV object for each pipeline\n",
    "grid_search= GridSearchCV(pipeline, param_grid, cv=3, verbose=3)\n",
    "\n",
    "\n",
    "# Fit the GridSearchCV object on the training data\n",
    "grid_search.fit(X_train, y_train)\n",
    "\n",
    "# Predict the labels for the test set\n",
    "y_pred = grid_search.predict(X_test)\n",
    "\n",
    "# Calculate the accuracy score for the current slice\n",
    "score = accuracy_score(y_test, y_pred)\n",
    "\n",
    "# Print the accuracy score and best hyperparameters for the current slice\n",
    "print(\"Accuracy score: \", score)\n",
    "print(\"Best hyperparameters: \", grid_search.best_params_)\n",
    "print(\"Best accuracy score: \", grid_search.best_score_)"
   ]
  },
  {
   "cell_type": "code",
   "execution_count": 7,
   "id": "fd7bdcba",
   "metadata": {},
   "outputs": [
    {
     "data": {
      "text/plain": [
       "{'classifier__alpha': 0.1,\n",
       " 'tfidf__use_idf': True,\n",
       " 'vectorizer__ngram_range': (1, 1)}"
      ]
     },
     "execution_count": 7,
     "metadata": {},
     "output_type": "execute_result"
    }
   ],
   "source": [
    "grid_search.best_params_"
   ]
  },
  {
   "cell_type": "code",
   "execution_count": 8,
   "id": "0da6cfa6",
   "metadata": {},
   "outputs": [],
   "source": [
    "#!pip install --upgrade evaluate==0.4.1\n"
   ]
  },
  {
   "cell_type": "code",
   "execution_count": 9,
   "id": "0cfd7d85",
   "metadata": {
    "scrolled": true
   },
   "outputs": [
    {
     "name": "stdout",
     "output_type": "stream",
     "text": [
      "Classification Report\n",
      "              precision    recall  f1-score   support\n",
      "\n",
      "           0       1.00      0.01      0.02       117\n",
      "           1       1.00      0.03      0.05       302\n",
      "           2       0.66      1.00      0.79       784\n",
      "\n",
      "    accuracy                           0.66      1203\n",
      "   macro avg       0.89      0.35      0.29      1203\n",
      "weighted avg       0.78      0.66      0.53      1203\n",
      "\n"
     ]
    },
    {
     "data": {
      "image/png": "[encoded data removed]",
      "text/plain": [
       "<Figure size 640x480 with 2 Axes>"
      ]
     },
     "metadata": {},
     "output_type": "display_data"
    }
   ],
   "source": [
    "import pandas as pd\n",
    "import numpy as np\n",
    "import matplotlib.pyplot as plt\n",
    "import string\n",
    "import mmap\n",
    "import os\n",
    "from nltk.corpus import stopwords\n",
    "from sklearn.feature_extraction.text import TfidfVectorizer\n",
    "from sklearn.model_selection import train_test_split\n",
    "from sklearn.decomposition import PCA\n",
    "from sklearn.preprocessing import StandardScaler\n",
    "from sklearn.metrics import confusion_matrix\n",
    "from sklearn.compose import ColumnTransformer\n",
    "from sklearn.pipeline import Pipeline\n",
    "from sklearn.naive_bayes import MultinomialNB\n",
    "from sklearn.preprocessing import StandardScaler, MinMaxScaler\n",
    "from sklearn.model_selection import ParameterGrid\n",
    "from sklearn.linear_model import SGDClassifier\n",
    "from sklearn.model_selection import KFold\n",
    "from sklearn.model_selection import GridSearchCV\n",
    "from joblib import Parallel, parallel_backend\n",
    "from sklearn.metrics import accuracy_score, roc_auc_score, precision_score, recall_score, f1_score\n",
    "from itertools import product\n",
    "import seaborn as sns\n",
    "from sklearn.metrics import roc_curve, auc\n",
    "from sklearn.feature_extraction.text import CountVectorizer, TfidfTransformer\n",
    "\n",
    "from sklearn.metrics import accuracy_score, classification_report, confusion_matrix, ConfusionMatrixDisplay\n",
    "\n",
    "pipeline = Pipeline([\n",
    "    ('vectorizer', CountVectorizer(ngram_range=(1, 2))),\n",
    "    ('tfidf', TfidfTransformer(use_idf=False)),\n",
    "    ('classifier', MultinomialNB(alpha=0.1,))\n",
    "])\n",
    "\n",
    "pipeline.fit(train[\"text\"], train[\"sentiment\"])\n",
    "\n",
    "y_pred = pipeline.predict(test[\"text\"])\n",
    "pd.DataFrame(y_pred).to_csv(\"y_pred_tf-idf-NaiveBayes.csv\")\n",
    "\n",
    "def evaluation_parametrics(name, y_test, y_pred):\n",
    "    cm = confusion_matrix(y_test, y_pred)\n",
    "    t1 = ConfusionMatrixDisplay(cm)\n",
    "    print(\"Classification Report\")\n",
    "    print(classification_report(y_test, y_pred))\n",
    "    t1.plot()\n",
    "    \n",
    "evaluation_parametrics(\"Machine Learning Classification\", y_test, y_pred)\n"
   ]
  },
  {
   "cell_type": "code",
   "execution_count": 1,
   "id": "6c228fae",
   "metadata": {
    "scrolled": true
   },
   "outputs": [
    {
     "ename": "NameError",
     "evalue": "name 'pipeline' is not defined",
     "output_type": "error",
     "traceback": [
      "\u001b[1;31m---------------------------------------------------------------------------\u001b[0m",
      "\u001b[1;31mNameError\u001b[0m                                 Traceback (most recent call last)",
      "\u001b[1;32m~\\AppData\\Local\\Temp\\ipykernel_10112\\3726332262.py\u001b[0m in \u001b[0;36m<module>\u001b[1;34m\u001b[0m\n\u001b[0;32m     28\u001b[0m \u001b[1;32mfrom\u001b[0m \u001b[0msklearn\u001b[0m\u001b[1;33m.\u001b[0m\u001b[0mpreprocessing\u001b[0m \u001b[1;32mimport\u001b[0m \u001b[0mlabel_binarize\u001b[0m\u001b[1;33m\u001b[0m\u001b[1;33m\u001b[0m\u001b[0m\n\u001b[0;32m     29\u001b[0m \u001b[1;33m\u001b[0m\u001b[0m\n\u001b[1;32m---> 30\u001b[1;33m \u001b[0my_pred_probs\u001b[0m \u001b[1;33m=\u001b[0m \u001b[0mpipeline\u001b[0m\u001b[1;33m.\u001b[0m\u001b[0mpredict_proba\u001b[0m\u001b[1;33m(\u001b[0m\u001b[0mtest\u001b[0m\u001b[1;33m[\u001b[0m\u001b[1;34m\"text\"\u001b[0m\u001b[1;33m]\u001b[0m\u001b[1;33m)\u001b[0m\u001b[1;33m\u001b[0m\u001b[1;33m\u001b[0m\u001b[0m\n\u001b[0m\u001b[0;32m     31\u001b[0m \u001b[0mpd\u001b[0m\u001b[1;33m.\u001b[0m\u001b[0mDataFrame\u001b[0m\u001b[1;33m(\u001b[0m\u001b[0my_pred_probs\u001b[0m\u001b[1;33m)\u001b[0m\u001b[1;33m.\u001b[0m\u001b[0mto_csv\u001b[0m\u001b[1;33m(\u001b[0m\u001b[1;34m\"y_pred_probs_tf-idf-NaiveBayes.csv\"\u001b[0m\u001b[1;33m)\u001b[0m\u001b[1;33m\u001b[0m\u001b[1;33m\u001b[0m\u001b[0m\n",
      "\u001b[1;31mNameError\u001b[0m: name 'pipeline' is not defined"
     ]
    }
   ],
   "source": [
    "import pandas as pd\n",
    "import numpy as np\n",
    "import matplotlib.pyplot as plt\n",
    "import string\n",
    "from sklearn.pipeline import Pipeline\n",
    "from nltk.corpus import stopwords\n",
    "from sklearn.feature_extraction.text import TfidfVectorizer\n",
    "from sklearn.model_selection import train_test_split\n",
    "from sklearn.decomposition import PCA\n",
    "from sklearn.preprocessing import StandardScaler\n",
    "from sklearn.metrics import confusion_matrix\n",
    "from sklearn.compose import ColumnTransformer\n",
    "from sklearn.pipeline import Pipeline\n",
    "from sklearn.naive_bayes import MultinomialNB\n",
    "from sklearn.preprocessing import StandardScaler, MinMaxScaler\n",
    "from sklearn.model_selection import ParameterGrid\n",
    "from sklearn.linear_model import SGDClassifier\n",
    "from sklearn.model_selection import KFold\n",
    "from sklearn.model_selection import GridSearchCV\n",
    "from joblib import Parallel, parallel_backend\n",
    "from sklearn.metrics import accuracy_score, roc_auc_score, precision_score, recall_score, f1_score\n",
    "from itertools import product\n",
    "import seaborn as sns\n",
    "from sklearn.metrics import roc_curve, auc\n",
    "from sklearn.feature_extraction.text import CountVectorizer, TfidfTransformer\n",
    "\n",
    "from sklearn.preprocessing import label_binarize\n",
    "\n",
    "y_pred_probs = pipeline.predict_proba(test[\"text\"])\n",
    "pd.DataFrame(y_pred_probs).to_csv(\"y_pred_probs_tf-idf-NaiveBayes.csv\")\n"
   ]
  },
  {
   "cell_type": "code",
   "execution_count": 14,
   "id": "908da469",
   "metadata": {},
   "outputs": [
    {
     "data": {
      "image/png": "[encoded data removed]",
      "text/plain": [
       "<Figure size 640x480 with 1 Axes>"
      ]
     },
     "metadata": {},
     "output_type": "display_data"
    }
   ],
   "source": [
    "def evaluate_roc_probs(probs, y_true, average='micro'):\n",
    "\n",
    "    n_classes = probs.shape[1]\n",
    "\n",
    "    y_true_binarized = label_binarize(y_true, classes=np.unique(y_true))\n",
    "\n",
    "    fpr = dict()\n",
    "    tpr = dict()\n",
    "    roc_auc = dict()\n",
    "\n",
    "    for i in range(n_classes):\n",
    "        fpr[i], tpr[i], _ = roc_curve(y_true_binarized[:, i], probs[:, i])\n",
    "        roc_auc[i] = auc(fpr[i], tpr[i])\n",
    "\n",
    "    # Compute micro/macro-averaged ROC curve and ROC area\n",
    "    if average == 'micro':\n",
    "        all_fpr = np.unique(np.concatenate([fpr[i] for i in range(n_classes)]))\n",
    "        mean_tpr = np.zeros_like(all_fpr)\n",
    "        for i in range(n_classes):\n",
    "            mean_tpr += np.interp(all_fpr, fpr[i], tpr[i])\n",
    "        mean_tpr /= n_classes\n",
    "        fpr_macro = all_fpr\n",
    "        tpr_macro = mean_tpr\n",
    "        roc_auc_macro = auc(fpr_macro, tpr_macro)\n",
    "\n",
    "        plt.plot(fpr_macro, tpr_macro, label='Micro-average ROC curve (AUC = {:.2f})'.format(roc_auc_macro))\n",
    "    \n",
    "    elif average == 'macro':\n",
    "        for i in range(n_classes):\n",
    "            plt.plot(fpr[i], tpr[i], label='ROC curve (class {}) (AUC = {:.2f})'.format(i, roc_auc[i]), alpha=0.3)\n",
    "        \n",
    "        # Compute macro-average ROC curve and ROC area\n",
    "        fpr_macro = np.linspace(0, 1, 100)\n",
    "        tpr_macro = np.zeros_like(fpr_macro)\n",
    "        for i in range(n_classes):\n",
    "            tpr_macro += np.interp(fpr_macro, fpr[i], tpr[i])\n",
    "        tpr_macro /= n_classes\n",
    "        roc_auc_macro = auc(fpr_macro, tpr_macro)\n",
    "        \n",
    "        plt.plot(fpr_macro, tpr_macro, label='Macro-average ROC curve (AUC = {:.2f})'.format(roc_auc_macro), color='navy')\n",
    "    \n",
    "    else:\n",
    "        raise ValueError(\"Invalid value for 'average'. Use 'micro' or 'macro'.\")\n",
    "\n",
    "    plt.plot([0, 1], [0, 1], 'k--')\n",
    "    plt.xlim([0.0, 1.0])\n",
    "    plt.ylim([0.0, 1.05])\n",
    "    plt.xlabel('False Positive Rate')\n",
    "    plt.ylabel('True Positive Rate')\n",
    "    plt.title('Receiver Operating Characteristic for Multiclass')\n",
    "    plt.legend(loc=\"lower right\")\n",
    "    plt.show()\n",
    "\n",
    "evaluate_roc_probs(y_pred_probs, test[\"sentiment\"].values, average='macro')"
   ]
  },
  {
   "cell_type": "code",
   "execution_count": 13,
   "id": "01208bd6",
   "metadata": {},
   "outputs": [
    {
     "name": "stdout",
     "output_type": "stream",
     "text": [
      "                                                                                                                                                                                                                                                                                                                                                    text  \\\n",
      "488                                                                                                                                                                                                              i honestly tell making difference whole skincare routine better general but overall i think good cleanser continued use least last year   \n",
      "387                                                                                                                                                                                                                                                                                          love dermalogica product okay i kept use every i repurchase   \n",
      "351                                                                                                                                                                when i bought i hope making skin feel great slight glow while glow perfect skin far i used product past day skin started flake drying much it also feel like sits skin rather soaking   \n",
      "257                                                                                                                                                                                        this stuff work great minimizing redness my question used moisturizer face if tends spread cream face loses coverage other i impressed instant change redness   \n",
      "193  i really excited try moisturizer i lot sebum bump thing help keep bay retinol salicylic acid pad the first thing i noticed smell like toned salicylic acid it feel minty absorbs easily quickly it leave slight shine i mind i see immediate result like i would i use salicylic acid pad i like since moisturizer i use pad moisturizer separately   \n",
      "\n",
      "     sentiment  y_pred  \n",
      "488          1       2  \n",
      "387          0       2  \n",
      "351          0       2  \n",
      "257          1       2  \n",
      "193          1       2  \n"
     ]
    }
   ],
   "source": [
    "# Generate predictions using the model and added to the DataFrame\n",
    "test['y_pred'] = pipeline.predict(test[\"text\"])\n",
    "\n",
    "# Filter test set where model failed to predict the label correctly\n",
    "failed_predictions = test[test[\"sentiment\"] != test[\"y_pred\"]]\n",
    "\n",
    "# Sample 5 random observations from the filtered set\n",
    "random_failed_samples = failed_predictions.sample(5, random_state=42)\n",
    "\n",
    "pd.set_option('display.max_colwidth', None)\n",
    "print(random_failed_samples)\n"
   ]
  },
  {
   "cell_type": "code",
   "execution_count": null,
   "id": "0500ca0d",
   "metadata": {},
   "outputs": [],
   "source": []
  }
 ],
 "metadata": {
  "kernelspec": {
   "display_name": "Python 3 (ipykernel)",
   "language": "python",
   "name": "python3"
  },
  "language_info": {
   "codemirror_mode": {
    "name": "ipython",
    "version": 3
   },
   "file_extension": ".py",
   "mimetype": "text/x-python",
   "name": "python",
   "nbconvert_exporter": "python",
   "pygments_lexer": "ipython3",
   "version": "3.9.13"
  }
 },
 "nbformat": 4,
 "nbformat_minor": 5
}
